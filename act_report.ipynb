{
 "cells": [
  {
   "cell_type": "markdown",
   "id": "5495b568",
   "metadata": {},
   "source": [
    "## Report: act_report\n",
    "# Analysis of Twitter Account @WeRateDogs and their rating/dog stage labeling system\n",
    "> In this analysis of tweets from WeRateDogs twitter account, we take a look at how the rating system and dog stage labels might have an effect on the popularity of tweets based on certain factors. First, we will look at how the ratings affect Popularity by comparing ratings vs Reply, Likes, and Quotes both statistically and as a scatterplot. We will then look at what the top-rated dog breeds are based on the image-predicted dog breed compared to average ratings to see how the ratings interact with dog breed. Finally, we will look at the dog stage labels doggo, pupper, puppo, and floofer to see what the most used dog stage is, what the ratings are for each dog stage and how each dog stage favorite/like counts change with the ratings."
   ]
  },
  {
   "cell_type": "markdown",
   "id": "867efbda",
   "metadata": {},
   "source": [
    "### Do the Ratings Correlate with Popularity(Reply, Likes, and Quote Counts)\n",
    "\n",
    "![Statistics of dog Ratings vs. Popularity](Pictures\\Stats_Ratings_Popularity.jpg \"Dog Ratings Vs. Popularity\")\n",
    "> Based on the statistics of the different popularity counts vs ratings it does appear that as rating increases so do the count values. I added a visualization for a clearer comparison of each count vs rating below. \n",
    "\n",
    "![Scatterplot Vizualization of dog Ratings vs. Popularity](Pictures\\Dog_rating_vs_Popularity_viz.jpg \"Dog Ratings Vs. Popularity Scatterplot\")\n",
    "\n",
    "> This visual comparison shows that there seems to be a correlation between popularity and dog rating for each variable where the higher the dog rating the more popular the tweet was, except for the highest rated dogs actually seem to decrease in popularity compared to the second highest rated dogs."
   ]
  },
  {
   "cell_type": "markdown",
   "id": "6bae1f7f",
   "metadata": {},
   "source": [
    "### Top Rated Dogs(Based on Prediction Types)\n",
    "\n",
    "<img src=\"Pictures\\Top_dog_breed.jpg\"\n",
    "     alt=\"Aggregated data of Top Rated Dog Breed\"\n",
    "     style=\"float: left; margin-right: 10px;\" />\n",
    "<img src=\"Pictures\\top_rated_dog_breed_viz.jpg\"\n",
    "     alt=\"Bar Graph of top 20 Rated Dogs\"\n",
    "     style=\"float: right; margin-left: 10px;\" />\n",
    "\n",
    "\n",
    "> This analysis was done using only the most accurate prediction for dog breed p1 since it had a 95% accuracy. This data shows the 5 top-rated dog breeds are giant_schnauzer, border_terrier, tibetan_mastiff, briard, saluki. While the lowest-rated dogs are japanese_spaniel, welsh_springer_spaniel, walker_hound, scotch_terrier, norwich_terrier. Since we can't see as much data I also plotted the top 20 dog breeds in a bar graph as well."
   ]
  },
  {
   "cell_type": "markdown",
   "id": "1a01c068",
   "metadata": {},
   "source": [
    "### Comparison of doggo,pupper,puppo, floofer, and combos. How did the use of doggo vs pupper effect rating\n",
    "<img src=\"Pictures\\doggo_pupper_counts.jpg \"\n",
    "     alt=\"Counts of Dog Stage Usage\"\n",
    "     style=\"float: left; margin-right: 10px; margin-top: 150px;\" />\n",
    "<img src=\"Pictures\\dog_stages_viz.jpg\"\n",
    "     alt=\"Pie Chart of Dog Stages Usage\"\n",
    "     style=\"float: right; \" />"
   ]
  },
  {
   "cell_type": "markdown",
   "id": "a4d5203a",
   "metadata": {},
   "source": [
    "> Looking at the initial numbers on the left there were a lot more pupper's and puppo's compared to the doggo category, to see this better I created a pie chart that more clearly shows the difference in use of pupper and puppo vs doggo. Even if the combination tweets were separated to account for single use of each dog stage doggo would still be less frequently used then pupper alone."
   ]
  },
  {
   "cell_type": "markdown",
   "id": "79fc23c8",
   "metadata": {},
   "source": [
    "\n",
    "<img src=\"Pictures\\doggo_pupper_avgs.jpg \"\n",
    "     alt=\"Stats of Dog Stage Rating Averages\"\n",
    "     style=\"float: left; margin-right: 10px; margin-top: 100px;\" />\n",
    "<img src=\"Pictures\\dog_stages_viz_two.jpg\"\n",
    "     alt=\"Bar Graph of Dog Stage Rating Avereages\"\n",
    "     style=\"float: right; \" />"
   ]
  },
  {
   "cell_type": "markdown",
   "id": "57bce531",
   "metadata": {},
   "source": [
    "> It also appears that the less used combo's had lower ratings than the single dog_stage's based on average ratings here, except for the doggo and puppo combination which actually had the highest rating overall. These rating however are all fairly close together and it would be interesting to see if this trend remains with other popularity data such as likes and retweets which we will look at next."
   ]
  },
  {
   "cell_type": "markdown",
   "id": "dc65447b",
   "metadata": {},
   "source": [
    "<img src=\"Pictures\\dog_stages_viz_3.jpg\"\n",
    "     alt=\"Line Graph of Dog Stage Ratings vs Likes\"\n",
    " />\n",
    "\n",
    ">  With this last visualization, it appears there is a general trend that shows puppo is the most liked and highest-rated dog stage and would likely only increase if we combined the similar terms of puppo and pupper."
   ]
  },
  {
   "cell_type": "markdown",
   "id": "d34a78c1",
   "metadata": {},
   "source": [
    "## Conclusion\n",
    "> With this initial analysis of WeRateDogs it is clear there is an effect on the tweets based on both dog ratings as well as the dog stages and would be interesting to see how else these unique systems have an affect on tweets. There is also definitely more that could be done to clean this data for further future analysis."
   ]
  }
 ],
 "metadata": {
  "kernelspec": {
   "display_name": "Python [conda env:py3_env] *",
   "language": "python",
   "name": "conda-env-py3_env-py"
  },
  "language_info": {
   "codemirror_mode": {
    "name": "ipython",
    "version": 3
   },
   "file_extension": ".py",
   "mimetype": "text/x-python",
   "name": "python",
   "nbconvert_exporter": "python",
   "pygments_lexer": "ipython3",
   "version": "3.8.13"
  }
 },
 "nbformat": 4,
 "nbformat_minor": 5
}
